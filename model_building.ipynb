{
 "cells": [
  {
   "cell_type": "code",
   "execution_count": 1,
   "metadata": {},
   "outputs": [],
   "source": [
    "import pandas as pd\n",
    "import numpy as np\n",
    "from sklearn.feature_extraction.text import CountVectorizer\n",
    "from sklearn.feature_extraction.text import TfidfVectorizer\n",
    "from sklearn.metrics import classification_report, accuracy_score\n",
    "from sklearn.naive_bayes import MultinomialNB, BernoulliNB\n",
    "from sklearn.linear_model import LogisticRegression\n",
    "from sklearn.decomposition import TruncatedSVD\n",
    "from string import digits"
   ]
  },
  {
   "cell_type": "code",
   "execution_count": 2,
   "metadata": {},
   "outputs": [],
   "source": [
    "train = pd.read_csv('data/train.csv')\n",
    "valid = pd.read_csv('data/valid.csv')"
   ]
  },
  {
   "cell_type": "code",
   "execution_count": 3,
   "metadata": {},
   "outputs": [],
   "source": [
    "def remove_digits(s: str) -> str:\n",
    "    remove_digits = str.maketrans('', '', digits)\n",
    "    res = s.translate(remove_digits)\n",
    "    return res"
   ]
  },
  {
   "cell_type": "code",
   "execution_count": 4,
   "metadata": {},
   "outputs": [],
   "source": [
    "train['text'] = train['text'].apply(remove_digits)\n",
    "valid['text'] = valid['text'].apply(remove_digits)"
   ]
  },
  {
   "cell_type": "code",
   "execution_count": 5,
   "metadata": {},
   "outputs": [],
   "source": [
    "vectorizer = CountVectorizer(stop_words='english', lowercase=True,\n",
    "                             ngram_range=(1, 1), min_df=2, binary=True)\n",
    "\n",
    "train_features = vectorizer.fit_transform(train['text'])\n",
    "train_labels = train['class']\n",
    "\n",
    "valid_features = vectorizer.transform(valid['text'])\n",
    "valid_labels = valid['class']"
   ]
  },
  {
   "cell_type": "code",
   "execution_count": 6,
   "metadata": {},
   "outputs": [
    {
     "data": {
      "text/plain": [
       "(9131, 8446)"
      ]
     },
     "execution_count": 6,
     "metadata": {},
     "output_type": "execute_result"
    }
   ],
   "source": [
    "train_features.shape"
   ]
  },
  {
   "cell_type": "code",
   "execution_count": 7,
   "metadata": {},
   "outputs": [
    {
     "name": "stdout",
     "output_type": "stream",
     "text": [
      "              precision    recall  f1-score   support\n",
      "\n",
      "    negative       0.71      0.74      0.72       403\n",
      "    positive       0.85      0.83      0.84       739\n",
      "\n",
      "   micro avg       0.80      0.80      0.80      1142\n",
      "   macro avg       0.78      0.79      0.78      1142\n",
      "weighted avg       0.80      0.80      0.80      1142\n",
      "\n"
     ]
    },
    {
     "data": {
      "text/plain": [
       "0.8003502626970228"
      ]
     },
     "execution_count": 7,
     "metadata": {},
     "output_type": "execute_result"
    }
   ],
   "source": [
    "model = BernoulliNB()\n",
    "model.fit(train_features, train_labels)\n",
    "\n",
    "valid_preds = model.predict(valid_features)\n",
    "print(classification_report(valid_labels, valid_preds))\n",
    "accuracy_score(valid_labels, valid_preds)"
   ]
  },
  {
   "cell_type": "code",
   "execution_count": 63,
   "metadata": {},
   "outputs": [],
   "source": [
    "bad_entries = valid.loc[(valid_preds != valid_labels), ['text', 'class']].copy()"
   ]
  },
  {
   "cell_type": "code",
   "execution_count": 64,
   "metadata": {},
   "outputs": [
    {
     "data": {
      "text/plain": [
       "5       Situated at half minute walking distance from ...\n",
       "9       I had never visited this place yet but, eager ...\n",
       "24      Pretty decent party place in camac street, pan...\n",
       "25      Quite a good and affordable place for a quick ...\n",
       "40      Good place for snacks and light items. I order...\n",
       "55      I actually wanted to give it 3.5 star but thei...\n",
       "75      If you are craving for some quality biriyani a...\n",
       "77      Good food... great service\\nFood quality is no...\n",
       "89      Dude it's Christmas time, specially winter😍😍. ...\n",
       "93      A very old and a well known dhaba, I must say....\n",
       "101     Located at sodepur. Good place for casual meet...\n",
       "104     Our visit to Irish house turned out to be a de...\n",
       "127     Ordered Special Chicken Biryani and Chicken Re...\n",
       "141     been here several times. wow momo was one of m...\n",
       "147     During my school days.. i used to frequently v...\n",
       "183     Have been here quite a few times here since it...\n",
       "189     Poochkawala, just 2 minutes walk from Girish P...\n",
       "203     Have ordered food from here... They give fresh...\n",
       "206     Okayish for the price. A good place if you are...\n",
       "218     Surely recommended for pure vegetarian people....\n",
       "226     A small cafe located near Karunamoyee, this is...\n",
       "227     This place used to be frequented by me as a ki...\n",
       "240     A two-storied place opposite Camac Street Pant...\n",
       "241     I've visited this place twice. It is located j...\n",
       "249     This is a vegetarian restaurant serving mainly...\n",
       "250     As the name suggests its a South indian cuisin...\n",
       "255     This food joint is in my town, when ever we fe...\n",
       "262     The Litti King is situated near Balwant Singh ...\n",
       "269     The open terrace is fresh and airy. Feels real...\n",
       "286     Introducing China Bite Kasba, they opened up t...\n",
       "                              ...                        \n",
       "760     A nice small kiosk just opposite of Eco space,...\n",
       "769     A place which relates pretty much to young vib...\n",
       "773     I gave this rating only for the ambience of th...\n",
       "794     This is the same place where chunky's used to ...\n",
       "846     We often try this place for home delivery of s...\n",
       "875     This restaurant is good for the different type...\n",
       "878     Been Here Last Night With A Friend Of Mine, Th...\n",
       "897     You want a drink while looking at the Central ...\n",
       "904     Restaurant is situated at Globsyn Crystal buil...\n",
       "908     This place is awesome for corporate parties.  ...\n",
       "935     Quiet a good place. Better if u go for shisha ...\n",
       "940     Serving time is really, really slow. I'd sugge...\n",
       "943     So I visited last day after shopping.. We orde...\n",
       "950     This is located opposite of City Center 1 Salt...\n",
       "961     Food - 3\\nService -3.5\\nAmbience - 4\\nCreme Ca...\n",
       "962     It serves nice decent pastries.. good to taste...\n",
       "969     Had ordered egg roll and tawa roti.The roll wa...\n",
       "989     Well Known radiant on the Barasat Highway . IT...\n",
       "999     This joint is just a minute walk from my den.\\...\n",
       "1002    Went here to celebrate a friend's birthday. Li...\n",
       "1011    This restaurant serves beef dishes in cheap pr...\n",
       "1021    Ordered Fish in Garlic Sauce and Kung Pao Chic...\n",
       "1037    This review is based on the home delivery I or...\n",
       "1038    Have gone to this place on last evening. Have ...\n",
       "1047    Visited Induction, a vegetarian snack joint lo...\n",
       "1063    A new addition to Lebanese sensational shawarm...\n",
       "1091    Went to this relatively small joint with Debab...\n",
       "1096    There is no doubt with the ambience! Staffs we...\n",
       "1116    I opted for weekdays buffet for my birthday. T...\n",
       "1117    We had went there when this cafe had just open...\n",
       "Name: text, Length: 106, dtype: object"
      ]
     },
     "execution_count": 64,
     "metadata": {},
     "output_type": "execute_result"
    }
   ],
   "source": [
    "bad_entries.loc[bad_entries['class'] == 'negative', 'text']"
   ]
  },
  {
   "cell_type": "code",
   "execution_count": 83,
   "metadata": {},
   "outputs": [
    {
     "data": {
      "text/plain": [
       "\"Ordered Fish in Garlic Sauce and Kung Pao Chicken. Food quantity is good and quality is satisfactory but even after giving directions that there should be no chillies in the food, the Kung Pao Chicken was alot spicier compared to what i've had in other places.\""
      ]
     },
     "execution_count": 83,
     "metadata": {},
     "output_type": "execute_result"
    }
   ],
   "source": [
    "bad_entries.loc[1021, 'text']"
   ]
  },
  {
   "cell_type": "code",
   "execution_count": null,
   "metadata": {},
   "outputs": [],
   "source": []
  }
 ],
 "metadata": {
  "kernelspec": {
   "display_name": "Python 3",
   "language": "python",
   "name": "python3"
  },
  "language_info": {
   "codemirror_mode": {
    "name": "ipython",
    "version": 3
   },
   "file_extension": ".py",
   "mimetype": "text/x-python",
   "name": "python",
   "nbconvert_exporter": "python",
   "pygments_lexer": "ipython3",
   "version": "3.7.0"
  }
 },
 "nbformat": 4,
 "nbformat_minor": 2
}
