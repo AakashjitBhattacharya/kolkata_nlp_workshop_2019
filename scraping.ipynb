{
 "cells": [
  {
   "cell_type": "code",
   "execution_count": 1,
   "metadata": {},
   "outputs": [],
   "source": [
    "import requests\n",
    "from bs4 import BeautifulSoup\n",
    "import pandas as pd\n",
    "from tqdm import tqdm"
   ]
  },
  {
   "cell_type": "markdown",
   "metadata": {},
   "source": [
    "## Preparing a list of URLs to scrape"
   ]
  },
  {
   "cell_type": "code",
   "execution_count": 2,
   "metadata": {},
   "outputs": [],
   "source": [
    "root_url = 'https://www.zomato.com/kolkata/dinner'"
   ]
  },
  {
   "cell_type": "code",
   "execution_count": 3,
   "metadata": {},
   "outputs": [],
   "source": [
    "# Lying to the server so that we can scrape without consequences\n",
    "headers = {'User-Agent': 'Mozilla/5.0 (Macintosh; Intel Mac OS X 10_11_6) AppleWebKit/537.36 (KHTML, like Gecko) Chrome/61.0.3163.100 Safari/537.36'}"
   ]
  },
  {
   "cell_type": "code",
   "execution_count": 4,
   "metadata": {
    "scrolled": true
   },
   "outputs": [
    {
     "name": "stdout",
     "output_type": "stream",
     "text": [
      "Page [1] scraped!\n",
      "Page [2] scraped!\n",
      "Page [3] scraped!\n",
      "Page [4] scraped!\n",
      "Page [5] scraped!\n",
      "Page [6] scraped!\n",
      "Page [7] scraped!\n",
      "Page [8] scraped!\n",
      "Page [9] scraped!\n",
      "Page [10] scraped!\n",
      "Page [11] scraped!\n",
      "Page [12] scraped!\n",
      "Page [13] scraped!\n",
      "Page [14] scraped!\n",
      "Page [15] scraped!\n",
      "Page [16] scraped!\n",
      "Page [17] scraped!\n",
      "Page [18] scraped!\n",
      "Page [19] scraped!\n",
      "Page [20] scraped!\n",
      "Page [21] scraped!\n",
      "Page [22] scraped!\n",
      "Page [23] scraped!\n",
      "Page [24] scraped!\n",
      "Page [25] scraped!\n",
      "Page [26] scraped!\n",
      "Page [27] scraped!\n",
      "Page [28] scraped!\n",
      "Page [29] scraped!\n",
      "Page [30] scraped!\n",
      "Page [31] scraped!\n",
      "Page [32] scraped!\n",
      "Page [33] scraped!\n",
      "Page [34] scraped!\n",
      "Page [35] scraped!\n",
      "Page [36] scraped!\n",
      "Page [37] scraped!\n",
      "Page [38] scraped!\n",
      "Page [39] scraped!\n",
      "Page [40] scraped!\n",
      "Page [41] scraped!\n",
      "Page [42] scraped!\n",
      "Page [43] scraped!\n",
      "Page [44] scraped!\n",
      "Page [45] scraped!\n",
      "Page [46] scraped!\n",
      "Page [47] scraped!\n",
      "Page [48] scraped!\n",
      "Page [49] scraped!\n",
      "Page [50] scraped!\n",
      "Page [51] scraped!\n",
      "Page [52] scraped!\n",
      "Page [53] scraped!\n",
      "Page [54] scraped!\n",
      "Page [55] scraped!\n",
      "Page [56] scraped!\n",
      "Page [57] scraped!\n",
      "Page [58] scraped!\n",
      "Page [59] scraped!\n",
      "Page [60] scraped!\n",
      "Page [61] scraped!\n",
      "Page [62] scraped!\n",
      "Page [63] scraped!\n",
      "Page [64] scraped!\n",
      "Page [65] scraped!\n",
      "Page [66] scraped!\n",
      "Page [67] scraped!\n",
      "Page [68] scraped!\n",
      "Page [69] scraped!\n",
      "Page [70] scraped!\n",
      "Page [71] scraped!\n",
      "Page [72] scraped!\n",
      "Page [73] scraped!\n",
      "Page [74] scraped!\n",
      "Page [75] scraped!\n",
      "Page [76] scraped!\n",
      "Page [77] scraped!\n",
      "Page [78] scraped!\n",
      "Page [79] scraped!\n",
      "Page [80] scraped!\n",
      "Page [81] scraped!\n",
      "Page [82] scraped!\n",
      "Page [83] scraped!\n",
      "Page [84] scraped!\n",
      "Page [85] scraped!\n",
      "Page [86] scraped!\n",
      "Page [87] scraped!\n",
      "Page [88] scraped!\n",
      "Page [89] scraped!\n",
      "Page [90] scraped!\n",
      "Page [91] scraped!\n",
      "Page [92] scraped!\n",
      "Page [93] scraped!\n",
      "Page [94] scraped!\n",
      "Page [95] scraped!\n",
      "Page [96] scraped!\n",
      "Page [97] scraped!\n",
      "Page [98] scraped!\n",
      "Page [99] scraped!\n",
      "Page [100] scraped!\n",
      "Page [101] scraped!\n",
      "Page [102] scraped!\n",
      "Page [103] scraped!\n",
      "Page [104] scraped!\n",
      "Page [105] scraped!\n",
      "Page [106] scraped!\n",
      "Page [107] scraped!\n",
      "Page [108] scraped!\n",
      "Page [109] scraped!\n",
      "Page [110] scraped!\n",
      "Page [111] scraped!\n",
      "Page [112] scraped!\n",
      "Page [113] scraped!\n",
      "Page [114] scraped!\n",
      "Page [115] scraped!\n",
      "Page [116] scraped!\n",
      "Page [117] scraped!\n",
      "Page [118] scraped!\n",
      "Page [119] scraped!\n",
      "Page [120] scraped!\n",
      "Page [121] scraped!\n",
      "Page [122] scraped!\n",
      "Page [123] scraped!\n",
      "Page [124] scraped!\n",
      "Page [125] scraped!\n",
      "Page [126] scraped!\n",
      "Page [127] scraped!\n",
      "Page [128] scraped!\n",
      "Page [129] scraped!\n",
      "Page [130] scraped!\n",
      "Page [131] scraped!\n",
      "Page [132] scraped!\n",
      "Page [133] scraped!\n",
      "Page [134] scraped!\n",
      "Page [135] scraped!\n",
      "Page [136] scraped!\n",
      "Page [137] scraped!\n",
      "Page [138] scraped!\n",
      "Page [139] scraped!\n",
      "Page [140] scraped!\n",
      "Page [141] scraped!\n",
      "Page [142] scraped!\n",
      "Page [143] scraped!\n",
      "Page [144] scraped!\n",
      "Page [145] scraped!\n",
      "Page [146] scraped!\n",
      "Page [147] scraped!\n",
      "Page [148] scraped!\n",
      "Page [149] scraped!\n",
      "Page [150] scraped!\n"
     ]
    }
   ],
   "source": [
    "rest_urls = []\n",
    "for i in range(1, 151):\n",
    "    # Downloading page containing list of restaurants\n",
    "    page = requests.get(f'{root_url}?page={i}', headers=headers)\n",
    "    \n",
    "    # Cooking a soup for easy digestion\n",
    "    soup = BeautifulSoup(page.text, 'html.parser')\n",
    "    \n",
    "    # Extracting a list of all restaurants\n",
    "    res = soup.find_all('div', attrs={'class': 'search_left_featured clearfix'})\n",
    "    \n",
    "    for entry in res:\n",
    "        # Only storing the URL of the restaurant\n",
    "        url = entry.find('a', href=True)['href']\n",
    "        \n",
    "        # Replacing /info with /reviews so as to navigate to the reviews directly\n",
    "        rest_urls.append(url.replace('/info', '/reviews'))\n",
    "    print(f'Page [{i}] scraped!')"
   ]
  },
  {
   "cell_type": "code",
   "execution_count": 5,
   "metadata": {},
   "outputs": [
    {
     "data": {
      "text/plain": [
       "2235"
      ]
     },
     "execution_count": 5,
     "metadata": {},
     "output_type": "execute_result"
    }
   ],
   "source": [
    "len(rest_urls)"
   ]
  },
  {
   "cell_type": "markdown",
   "metadata": {},
   "source": [
    "## Scraping reviews and corresponding ratings"
   ]
  },
  {
   "cell_type": "code",
   "execution_count": 6,
   "metadata": {},
   "outputs": [
    {
     "name": "stderr",
     "output_type": "stream",
     "text": [
      "Fetching https://www.zomato.com/kolkata/calcutta-64-sector-1-salt-lake/reviews:   4%|▍         | 84/2235 [01:35<40:51,  1.14s/it]                       "
     ]
    },
    {
     "name": "stdout",
     "output_type": "stream",
     "text": [
      "Failed to retrieve url: https://www.zomato.com/kolkata/tung-fong-park-street-area/reviews\n"
     ]
    },
    {
     "name": "stderr",
     "output_type": "stream",
     "text": [
      "Fetching https://www.zomato.com/kolkata/hotel-priya-shyam-bazar/reviews: 100%|██████████| 2235/2235 [34:10<00:00,  1.09it/s]                                            \n"
     ]
    }
   ],
   "source": [
    "texts = []\n",
    "labels = []\n",
    "pbar = tqdm(rest_urls)\n",
    "for url in pbar:\n",
    "    try:\n",
    "        # A little verbosity doesn't hurt\n",
    "        pbar.set_description(f'Fetching {url}')\n",
    "        \n",
    "        # Downloading the restaurant page\n",
    "        page = requests.get(url, headers=headers)\n",
    "        \n",
    "        # Cooking a soup\n",
    "        page = BeautifulSoup(page.text, 'html.parser')\n",
    "        \n",
    "        # Looking for reviews\n",
    "        reviews = page.find_all('div', attrs={'class': 'rev-text mbot0 '})\n",
    "        \n",
    "        for review in reviews:\n",
    "            # Extracting the label\n",
    "            label = float(review.find('div')['aria-label'][-3:])\n",
    "            \n",
    "            # Clearing out some junk\n",
    "            review.find('div').decompose()\n",
    "            \n",
    "            # Extracting the text\n",
    "            text = review.text.strip()\n",
    "\n",
    "            # Storing our treasures\n",
    "            labels.append(label)\n",
    "            texts.append(text)\n",
    "            \n",
    "    except KeyboardInterrupt:\n",
    "        # Manually breaking the loop\n",
    "        break   \n",
    "    except:\n",
    "        # Something went wrong so ...\n",
    "        # Skipping the current url :)\n",
    "        print(f'Failed to retrieve url: {url}')\n",
    "\n",
    "# Making a pandas DataFrame from our data\n",
    "data = pd.DataFrame()\n",
    "data['text'] = texts\n",
    "data['label'] = labels"
   ]
  },
  {
   "cell_type": "markdown",
   "metadata": {},
   "source": [
    "## Glimpse of the data"
   ]
  },
  {
   "cell_type": "code",
   "execution_count": 7,
   "metadata": {},
   "outputs": [
    {
     "data": {
      "text/html": [
       "<div>\n",
       "<style scoped>\n",
       "    .dataframe tbody tr th:only-of-type {\n",
       "        vertical-align: middle;\n",
       "    }\n",
       "\n",
       "    .dataframe tbody tr th {\n",
       "        vertical-align: top;\n",
       "    }\n",
       "\n",
       "    .dataframe thead th {\n",
       "        text-align: right;\n",
       "    }\n",
       "</style>\n",
       "<table border=\"1\" class=\"dataframe\">\n",
       "  <thead>\n",
       "    <tr style=\"text-align: right;\">\n",
       "      <th></th>\n",
       "      <th>text</th>\n",
       "      <th>label</th>\n",
       "    </tr>\n",
       "  </thead>\n",
       "  <tbody>\n",
       "    <tr>\n",
       "      <th>0</th>\n",
       "      <td>One thing I loved about the place is the view ...</td>\n",
       "      <td>4.0</td>\n",
       "    </tr>\n",
       "    <tr>\n",
       "      <th>1</th>\n",
       "      <td>If You are going to Ozora, Please Select Rooft...</td>\n",
       "      <td>4.0</td>\n",
       "    </tr>\n",
       "    <tr>\n",
       "      <th>2</th>\n",
       "      <td>What a wonderful cold winter evening it was. M...</td>\n",
       "      <td>4.0</td>\n",
       "    </tr>\n",
       "    <tr>\n",
       "      <th>3</th>\n",
       "      <td>Well had been to this place a while back to at...</td>\n",
       "      <td>3.0</td>\n",
       "    </tr>\n",
       "    <tr>\n",
       "      <th>4</th>\n",
       "      <td>Visited on a cool evening and was mesmerized b...</td>\n",
       "      <td>4.0</td>\n",
       "    </tr>\n",
       "  </tbody>\n",
       "</table>\n",
       "</div>"
      ],
      "text/plain": [
       "                                                text  label\n",
       "0  One thing I loved about the place is the view ...    4.0\n",
       "1  If You are going to Ozora, Please Select Rooft...    4.0\n",
       "2  What a wonderful cold winter evening it was. M...    4.0\n",
       "3  Well had been to this place a while back to at...    3.0\n",
       "4  Visited on a cool evening and was mesmerized b...    4.0"
      ]
     },
     "execution_count": 7,
     "metadata": {},
     "output_type": "execute_result"
    }
   ],
   "source": [
    "data.head()"
   ]
  },
  {
   "cell_type": "code",
   "execution_count": 8,
   "metadata": {},
   "outputs": [
    {
     "data": {
      "text/plain": [
       "(11357, 2)"
      ]
     },
     "execution_count": 8,
     "metadata": {},
     "output_type": "execute_result"
    }
   ],
   "source": [
    "data.shape"
   ]
  },
  {
   "cell_type": "markdown",
   "metadata": {},
   "source": [
    "## Saving the data to disk"
   ]
  },
  {
   "cell_type": "code",
   "execution_count": 10,
   "metadata": {},
   "outputs": [],
   "source": [
    "data.to_csv('data/reviews.csv', index=False)"
   ]
  }
 ],
 "metadata": {
  "kernelspec": {
   "display_name": "Python 3",
   "language": "python",
   "name": "python3"
  },
  "language_info": {
   "codemirror_mode": {
    "name": "ipython",
    "version": 3
   },
   "file_extension": ".py",
   "mimetype": "text/x-python",
   "name": "python",
   "nbconvert_exporter": "python",
   "pygments_lexer": "ipython3",
   "version": "3.7.0"
  }
 },
 "nbformat": 4,
 "nbformat_minor": 2
}
