{
 "cells": [
  {
   "cell_type": "code",
   "execution_count": 1,
   "metadata": {},
   "outputs": [],
   "source": [
    "import requests\n",
    "from bs4 import BeautifulSoup\n",
    "import pandas as pd\n",
    "from tqdm import tqdm"
   ]
  },
  {
   "cell_type": "markdown",
   "metadata": {},
   "source": [
    "## Preparing a list of URLs to scrape"
   ]
  },
  {
   "cell_type": "code",
   "execution_count": 2,
   "metadata": {},
   "outputs": [],
   "source": [
    "root_url = 'https://www.zomato.com/kolkata/dinner'"
   ]
  },
  {
   "cell_type": "code",
   "execution_count": 3,
   "metadata": {},
   "outputs": [],
   "source": [
    "# Lying to the server so that we can scrape without consequences\n",
    "headers = {'user-agent':'Mozilla/5.0 (Macintosh; Intel Mac OS X 10_14_2) AppleWebKit/537.36 \\\n",
    "(KHTML, like Gecko) Chrome/71.0.3578.98 Safari/537.36'}"
   ]
  },
  {
   "cell_type": "code",
   "execution_count": 4,
   "metadata": {
    "scrolled": true
   },
   "outputs": [
    {
     "name": "stderr",
     "output_type": "stream",
     "text": [
      "Page [150] scraped!: 100%|██████████| 150/150 [06:13<00:00,  2.49s/it]\n"
     ]
    }
   ],
   "source": [
    "rest_urls = []\n",
    "pbar = tqdm(range(1, 151))\n",
    "for i in pbar:\n",
    "    # Downloading page containing list of restaurants\n",
    "    page = requests.get(f'{root_url}?page={i}', headers=headers)\n",
    "    \n",
    "    # Cooking a soup for easy digestion\n",
    "    soup = BeautifulSoup(page.text, 'html.parser')\n",
    "    \n",
    "    # Extracting a list of all restaurants\n",
    "    res = soup.find_all('div', attrs={'class': 'search_left_featured clearfix'})\n",
    "    \n",
    "    for entry in res:\n",
    "        # Only storing the URL of the restaurant\n",
    "        url = entry.find('a', href=True)['href']\n",
    "        \n",
    "        # Replacing /info with /reviews so as to navigate to the reviews directly\n",
    "        rest_urls.append(url.replace('/info', '/reviews'))\n",
    "    pbar.set_description(f'Page [{i}] scraped!')"
   ]
  },
  {
   "cell_type": "code",
   "execution_count": null,
   "metadata": {},
   "outputs": [
    {
     "data": {
      "text/plain": [
       "2250"
      ]
     },
     "execution_count": 5,
     "metadata": {},
     "output_type": "execute_result"
    }
   ],
   "source": [
    "len(rest_urls)"
   ]
  },
  {
   "cell_type": "markdown",
   "metadata": {},
   "source": [
    "## Scraping reviews and corresponding ratings"
   ]
  },
  {
   "cell_type": "code",
   "execution_count": null,
   "metadata": {
    "scrolled": true
   },
   "outputs": [
    {
     "name": "stderr",
     "output_type": "stream",
     "text": [
      "Fetching https://www.zomato.com/kolkata/awesome-sector-3-salt-lake/reviews:  94%|█████████▍| 2123/2250 [57:26<03:26,  1.62s/it]                                         "
     ]
    }
   ],
   "source": [
    "texts = []\n",
    "labels = []\n",
    "pbar = tqdm(rest_urls)\n",
    "for url in pbar:\n",
    "    try:\n",
    "        # A little verbosity doesn't hurt\n",
    "        pbar.set_description(f'Fetching {url}')\n",
    "        \n",
    "        # Downloading the restaurant page\n",
    "        page = requests.get(url, headers=headers)\n",
    "        \n",
    "        # Cooking a soup\n",
    "        page = BeautifulSoup(page.text, 'html.parser')\n",
    "        \n",
    "        # Looking for reviews\n",
    "        reviews = page.find_all('div', attrs={'class': 'rev-text mbot0 '})\n",
    "        \n",
    "        for review in reviews:\n",
    "            # Extracting the label\n",
    "            label = float(review.find('div')['aria-label'][-3:])\n",
    "            \n",
    "            # Clearing out some junk\n",
    "            review.find('div').decompose()\n",
    "            \n",
    "            # Extracting the text\n",
    "            text = review.text.strip()\n",
    "\n",
    "            # Storing our treasures\n",
    "            labels.append(label)\n",
    "            texts.append(text)\n",
    "            \n",
    "    except KeyboardInterrupt:\n",
    "        # Manually breaking the loop\n",
    "        break   \n",
    "    except:\n",
    "        # Something went wrong so ...\n",
    "        # Skipping the current url :)\n",
    "        pbar.write(f'Failed to retrieve url: {url}')\n",
    "\n",
    "# Making a pandas DataFrame from our data\n",
    "data = pd.DataFrame()\n",
    "data['text'] = texts\n",
    "data['label'] = labels"
   ]
  },
  {
   "cell_type": "markdown",
   "metadata": {},
   "source": [
    "## Glimpse of the data"
   ]
  },
  {
   "cell_type": "code",
   "execution_count": null,
   "metadata": {},
   "outputs": [],
   "source": [
    "data.head()"
   ]
  },
  {
   "cell_type": "code",
   "execution_count": null,
   "metadata": {},
   "outputs": [],
   "source": [
    "data.shape"
   ]
  },
  {
   "cell_type": "markdown",
   "metadata": {},
   "source": [
    "## Saving the data to disk"
   ]
  },
  {
   "cell_type": "code",
   "execution_count": null,
   "metadata": {},
   "outputs": [],
   "source": [
    "data.to_csv('data/reviews.csv', index=False)"
   ]
  }
 ],
 "metadata": {
  "kernelspec": {
   "display_name": "Python 3",
   "language": "python",
   "name": "python3"
  },
  "language_info": {
   "codemirror_mode": {
    "name": "ipython",
    "version": 3
   },
   "file_extension": ".py",
   "mimetype": "text/x-python",
   "name": "python",
   "nbconvert_exporter": "python",
   "pygments_lexer": "ipython3",
   "version": "3.7.0"
  }
 },
 "nbformat": 4,
 "nbformat_minor": 2
}
