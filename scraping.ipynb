{
 "cells": [
  {
   "cell_type": "code",
   "execution_count": 5,
   "metadata": {},
   "outputs": [],
   "source": [
    "import requests\n",
    "from bs4 import BeautifulSoup\n",
    "import pandas as pd\n",
    "from tqdm import tqdm"
   ]
  },
  {
   "cell_type": "code",
   "execution_count": 2,
   "metadata": {},
   "outputs": [],
   "source": [
    "root_url = 'https://www.zomato.com/kolkata/dinner'"
   ]
  },
  {
   "cell_type": "code",
   "execution_count": 3,
   "metadata": {},
   "outputs": [],
   "source": [
    "headers = {'User-Agent': 'Mozilla/5.0 (Macintosh; Intel Mac OS X 10_11_6) AppleWebKit/537.36 (KHTML, like Gecko) Chrome/61.0.3163.100 Safari/537.36'}"
   ]
  },
  {
   "cell_type": "code",
   "execution_count": 4,
   "metadata": {},
   "outputs": [
    {
     "name": "stdout",
     "output_type": "stream",
     "text": [
      "Page [1] scraped!\n",
      "Page [2] scraped!\n",
      "Page [3] scraped!\n",
      "Page [4] scraped!\n",
      "Page [5] scraped!\n",
      "Page [6] scraped!\n",
      "Page [7] scraped!\n",
      "Page [8] scraped!\n",
      "Page [9] scraped!\n",
      "Page [10] scraped!\n",
      "Page [11] scraped!\n",
      "Page [12] scraped!\n",
      "Page [13] scraped!\n",
      "Page [14] scraped!\n",
      "Page [15] scraped!\n",
      "Page [16] scraped!\n",
      "Page [17] scraped!\n",
      "Page [18] scraped!\n",
      "Page [19] scraped!\n",
      "Page [20] scraped!\n",
      "Page [21] scraped!\n",
      "Page [22] scraped!\n",
      "Page [23] scraped!\n",
      "Page [24] scraped!\n",
      "Page [25] scraped!\n",
      "Page [26] scraped!\n",
      "Page [27] scraped!\n",
      "Page [28] scraped!\n",
      "Page [29] scraped!\n",
      "Page [30] scraped!\n",
      "Page [31] scraped!\n",
      "Page [32] scraped!\n",
      "Page [33] scraped!\n",
      "Page [34] scraped!\n",
      "Page [35] scraped!\n",
      "Page [36] scraped!\n",
      "Page [37] scraped!\n",
      "Page [38] scraped!\n",
      "Page [39] scraped!\n",
      "Page [40] scraped!\n",
      "Page [41] scraped!\n",
      "Page [42] scraped!\n",
      "Page [43] scraped!\n",
      "Page [44] scraped!\n",
      "Page [45] scraped!\n",
      "Page [46] scraped!\n",
      "Page [47] scraped!\n",
      "Page [48] scraped!\n",
      "Page [49] scraped!\n",
      "Page [50] scraped!\n",
      "Page [51] scraped!\n",
      "Page [52] scraped!\n",
      "Page [53] scraped!\n",
      "Page [54] scraped!\n",
      "Page [55] scraped!\n",
      "Page [56] scraped!\n",
      "Page [57] scraped!\n",
      "Page [58] scraped!\n",
      "Page [59] scraped!\n",
      "Page [60] scraped!\n",
      "Page [61] scraped!\n",
      "Page [62] scraped!\n",
      "Page [63] scraped!\n",
      "Page [64] scraped!\n",
      "Page [65] scraped!\n",
      "Page [66] scraped!\n",
      "Page [67] scraped!\n",
      "Page [68] scraped!\n",
      "Page [69] scraped!\n",
      "Page [70] scraped!\n",
      "Page [71] scraped!\n",
      "Page [72] scraped!\n",
      "Page [73] scraped!\n",
      "Page [74] scraped!\n",
      "Page [75] scraped!\n",
      "Page [76] scraped!\n",
      "Page [77] scraped!\n",
      "Page [78] scraped!\n",
      "Page [79] scraped!\n",
      "Page [80] scraped!\n",
      "Page [81] scraped!\n",
      "Page [82] scraped!\n",
      "Page [83] scraped!\n",
      "Page [84] scraped!\n",
      "Page [85] scraped!\n",
      "Page [86] scraped!\n",
      "Page [87] scraped!\n",
      "Page [88] scraped!\n",
      "Page [89] scraped!\n",
      "Page [90] scraped!\n",
      "Page [91] scraped!\n",
      "Page [92] scraped!\n",
      "Page [93] scraped!\n",
      "Page [94] scraped!\n",
      "Page [95] scraped!\n",
      "Page [96] scraped!\n",
      "Page [97] scraped!\n",
      "Page [98] scraped!\n",
      "Page [99] scraped!\n",
      "Page [100] scraped!\n",
      "Page [101] scraped!\n",
      "Page [102] scraped!\n",
      "Page [103] scraped!\n",
      "Page [104] scraped!\n",
      "Page [105] scraped!\n",
      "Page [106] scraped!\n",
      "Page [107] scraped!\n",
      "Page [108] scraped!\n",
      "Page [109] scraped!\n",
      "Page [110] scraped!\n",
      "Page [111] scraped!\n",
      "Page [112] scraped!\n",
      "Page [113] scraped!\n",
      "Page [114] scraped!\n",
      "Page [115] scraped!\n",
      "Page [116] scraped!\n",
      "Page [117] scraped!\n",
      "Page [118] scraped!\n",
      "Page [119] scraped!\n",
      "Page [120] scraped!\n",
      "Page [121] scraped!\n",
      "Page [122] scraped!\n",
      "Page [123] scraped!\n",
      "Page [124] scraped!\n",
      "Page [125] scraped!\n",
      "Page [126] scraped!\n",
      "Page [127] scraped!\n",
      "Page [128] scraped!\n",
      "Page [129] scraped!\n",
      "Page [130] scraped!\n",
      "Page [131] scraped!\n",
      "Page [132] scraped!\n",
      "Page [133] scraped!\n",
      "Page [134] scraped!\n",
      "Page [135] scraped!\n",
      "Page [136] scraped!\n",
      "Page [137] scraped!\n",
      "Page [138] scraped!\n",
      "Page [139] scraped!\n",
      "Page [140] scraped!\n",
      "Page [141] scraped!\n",
      "Page [142] scraped!\n",
      "Page [143] scraped!\n",
      "Page [144] scraped!\n",
      "Page [145] scraped!\n",
      "Page [146] scraped!\n",
      "Page [147] scraped!\n",
      "Page [148] scraped!\n",
      "Page [149] scraped!\n",
      "Page [150] scraped!\n"
     ]
    }
   ],
   "source": [
    "rest_urls = []\n",
    "for i in range(1, 151):\n",
    "    page = requests.get(f'{root_url}?page={i}', headers=headers)\n",
    "    soup = BeautifulSoup(page.text, 'html.parser')\n",
    "    res = soup.find_all('div', attrs={'class': 'search_left_featured clearfix'})\n",
    "    for entry in res:\n",
    "        url = entry.find('a', href=True)['href']\n",
    "        rest_urls.append(url.replace('/info', '/reviews'))\n",
    "    print(f'Page [{i}] scraped!')"
   ]
  },
  {
   "cell_type": "code",
   "execution_count": 6,
   "metadata": {},
   "outputs": [
    {
     "data": {
      "text/plain": [
       "2250"
      ]
     },
     "execution_count": 6,
     "metadata": {},
     "output_type": "execute_result"
    }
   ],
   "source": [
    "len(rest_urls)"
   ]
  },
  {
   "cell_type": "code",
   "execution_count": null,
   "metadata": {},
   "outputs": [
    {
     "name": "stderr",
     "output_type": "stream",
     "text": [
      "Fetching https://www.zomato.com/kolkata/bombay-shiv-sagar-camac-street-area/reviews:   6%|▌         | 130/2250 [03:53<1:03:32,  1.80s/it]                    "
     ]
    }
   ],
   "source": [
    "texts = []\n",
    "labels = []\n",
    "pbar = tqdm(rest_urls)\n",
    "for url in pbar:\n",
    "    try:\n",
    "        pbar.set_description(f'Fetching {url}')\n",
    "        page = requests.get(url, headers=headers)\n",
    "        page = BeautifulSoup(page.text, 'html.parser')\n",
    "        reviews = page.find_all('div', attrs={'class': 'rev-text mbot0 '})\n",
    "        label = float(reviews[0].find('div')['aria-label'][-3:])\n",
    "        reviews[0].find('div').decompose()\n",
    "        text = reviews[0].text.strip()\n",
    "\n",
    "        labels.append(labels)\n",
    "        texts.append(text)\n",
    "    except:\n",
    "        print(f'Failed to retrieve url: {url}')\n",
    "\n",
    "data = pd.DataFrame()\n",
    "data['text'] = texts\n",
    "data['label'] = labels"
   ]
  },
  {
   "cell_type": "code",
   "execution_count": null,
   "metadata": {},
   "outputs": [],
   "source": []
  }
 ],
 "metadata": {
  "kernelspec": {
   "display_name": "Python 3",
   "language": "python",
   "name": "python3"
  },
  "language_info": {
   "codemirror_mode": {
    "name": "ipython",
    "version": 3
   },
   "file_extension": ".py",
   "mimetype": "text/x-python",
   "name": "python",
   "nbconvert_exporter": "python",
   "pygments_lexer": "ipython3",
   "version": "3.7.0"
  }
 },
 "nbformat": 4,
 "nbformat_minor": 2
}
